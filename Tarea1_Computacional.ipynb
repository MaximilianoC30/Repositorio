{
  "cells": [
    {
      "cell_type": "markdown",
      "metadata": {
        "id": "view-in-github",
        "colab_type": "text"
      },
      "source": [
        "<a href=\"https://colab.research.google.com/github/MaximilianoC30/Repositorio/blob/main/Tarea1_Computacional.ipynb\" target=\"_parent\"><img src=\"https://colab.research.google.com/assets/colab-badge.svg\" alt=\"Open In Colab\"/></a>"
      ]
    },
    {
      "cell_type": "markdown",
      "metadata": {
        "id": "A6NXhKMA1KuT"
      },
      "source": [
        "<h1 align=\"center\">Física Computacional.</h1>\n",
        "<h1 align=\"center\">Semestre 2014-1</h1>\n",
        "\n",
        "<h2>Sergio A. Alcalá Corona </h2>\n",
        "\n",
        "---\n",
        "### Daniel Rojo Mata\n",
        "### Rodrigo Vega Vilchis\n",
        "---"
      ]
    },
    {
      "cell_type": "markdown",
      "metadata": {
        "id": "yIU07LV21KuW"
      },
      "source": [
        "<h1 align=\"center\">Programación para la física computacional</h1>\n",
        "\n",
        "## Práctica 1.  Programación para la física computacional\n",
        "\n",
        "\n",
        "### Programación básica para la física\n",
        "\n",
        "---"
      ]
    },
    {
      "cell_type": "markdown",
      "metadata": {
        "id": "CR5JcRW11KuX"
      },
      "source": [
        "### EJERCICIOS:"
      ]
    },
    {
      "cell_type": "markdown",
      "metadata": {
        "id": "NnN2aklQ1KuX"
      },
      "source": [
        "**1. Caida de una pelota desde una torre:** Se deja caer una pelota desde una torre de altura $h$. Tiene velocidad inicial cero y acelera hacia abajo con la gravedad.\n",
        "\n",
        "Escribe un programa que le pida al usuario que ingrese la altura en metros de la torre y luego calcule e imprima el tiempo en segundos hasta que la pelota toque el suelo (ignora la resistencia del aire).\n",
        "    \n",
        "Después, usa tu programa para calcular el tiempo de una pelota lanzada desde una torre de $100m$ de altura."
      ]
    },
    {
      "cell_type": "code",
      "execution_count": null,
      "metadata": {
        "id": "uasemHHg1KuX",
        "colab": {
          "base_uri": "https://localhost:8080/"
        },
        "outputId": "b554bc32-7cbe-4db2-caf3-deec2ec2a3a5"
      },
      "outputs": [
        {
          "output_type": "stream",
          "name": "stdout",
          "text": [
            "Ingresa la altura h: 100\n",
            "El tiempo en el que cae el objeto al suelo es t=  4.515236409857309 segundos\n"
          ]
        }
      ],
      "source": [
        "from math import sqrt\n",
        "\n",
        "#Pedimos al usuario el valor de h\n",
        "h=int(input(\"Ingresa la altura h: \"))\n",
        "\n",
        "#Definimos a g como la acelecarion hacia abajo\n",
        "g=9.81\n",
        "\n",
        "#Calculamos el tiempo que cae el objeto\n",
        "t= sqrt((2*h)/g)\n",
        "\n",
        "#Finalmente imprimios los resultados\n",
        "print(\"El tiempo en el que cae el objeto al suelo es t= \",t,\"segundos\")\n"
      ]
    },
    {
      "cell_type": "markdown",
      "metadata": {
        "id": "rFF8yn8u1KuY"
      },
      "source": [
        "**2. Altitud de un satélite**: se va a lanzar un satélite en una órbita circular alrededor de la Tierra de modo que orbite el planeta una vez cada $T$ segundos."
      ]
    },
    {
      "cell_type": "markdown",
      "metadata": {
        "id": "agNjImfU1KuY"
      },
      "source": [
        "(a) Demuestre que la altitud $h$ sobre la superficie de la Tierra que debe tener el satélite es:\n",
        "\n",
        "<h3 align=\"center\">$h = \\biggl( {GMT^2\\over4\\pi^2} \\biggr)^{1/3} - R$,</h3>\n",
        "\n",
        "donde $G=6.67\\times10^{-11}\\,\\textrm{m}^3\\,\\textrm{kg}^{-1}\\,\\textrm{s}^{-2}$ es la constante gravitatoria de Newton, $M=5.97\\times10^{24}\\,$kg es la masa de la Tierra y $R=6371\\,$km  es su radio.\n",
        "\n"
      ]
    },
    {
      "cell_type": "code",
      "source": [],
      "metadata": {
        "id": "4NWhgrl-u466"
      },
      "execution_count": null,
      "outputs": []
    },
    {
      "cell_type": "markdown",
      "metadata": {
        "id": "yjzmiPLe1KuZ"
      },
      "source": [
        "(b) Escribe un programa que le pida al usuario que ingrese el valor deseado de $T$ y luego calcula e imprima la altitud correcta en metros."
      ]
    },
    {
      "cell_type": "code",
      "execution_count": null,
      "metadata": {
        "id": "ckeinSMW1KuZ",
        "colab": {
          "base_uri": "https://localhost:8080/"
        },
        "outputId": "35060e8f-8988-4b05-c38c-f0ffb0dd5b28"
      },
      "outputs": [
        {
          "output_type": "stream",
          "name": "stdout",
          "text": [
            "Ingresa el valor de T en segundos: 87332\n",
            "La altitud de satelite es:  2.494100054406681e+24 metros\n"
          ]
        }
      ],
      "source": [
        "from math import pi\n",
        "\n",
        "\n",
        "#Pedimos al usuario el valor deseado de T\n",
        "T=int(input(\"Ingresa el valor de T en segundos: \"))\n",
        "\n",
        "#Definimos los valores de la gravedad, la masa y el radio de la Tierra\n",
        "G=6.66*(10**-11)\n",
        "M=5.97*(10**24)\n",
        "R=6371\n",
        "\n",
        "#Calculamos la altitud del satelite\n",
        "h= (((G*M*(T**2))/4*(pi**2))**1//3)-R\n",
        "\n",
        "#Finalmente imprimimos los resultados\n",
        "print(\"La altitud de satelite es: \",h,\"metros\")\n",
        "\n",
        "\n",
        "\n",
        "\n",
        "\n"
      ]
    },
    {
      "cell_type": "markdown",
      "metadata": {
        "id": "o0Wx1V7f1KuZ"
      },
      "source": [
        "(c) Utiliza tu programa para calcular las altitudes de los satélites que orbitan la Tierra una vez al día (la llamada órbita *geoestacionaria*), una vez cada **90 minutos** y una vez cada **45 minutos**. ¿Qué concluyes de este último cálculo?"
      ]
    },
    {
      "cell_type": "code",
      "execution_count": null,
      "metadata": {
        "id": "2MilgT-l1Kua",
        "colab": {
          "base_uri": "https://localhost:8080/"
        },
        "outputId": "09b115e8-74e9-4ec5-86cc-db3e6619e94b"
      },
      "outputs": [
        {
          "output_type": "stream",
          "name": "stdout",
          "text": [
            "Ingresa el valor de la órbita geoestacionaria en segundos: 86400\n",
            "Ingresa el valor de la órbita de 90 minutos en segundos: 5400\n",
            "Ingresa el valor de la órbita de 45 minutos en segundos: 2700\n",
            "La altitud de satelite en la obita geoestacionaria es:  2.441150441284887e+24 metros\n",
            "La altitud de satelite cada 90 minutos es:  9.53574391126909e+21 metros\n",
            "La altitud de satelite cada 45 minutos es:  2.3839359778172725e+21 metros\n"
          ]
        }
      ],
      "source": [
        "from math import pi\n",
        "\n",
        "\n",
        "#Pedimos al usuario el valor deseado de T1\n",
        "T1=int(input(\"Ingresa el valor de la órbita geoestacionaria en segundos: \"))\n",
        "T2=int(input(\"Ingresa el valor de la órbita de 90 minutos en segundos: \"))\n",
        "T3=int(input(\"Ingresa el valor de la órbita de 45 minutos en segundos: \"))\n",
        "\n",
        "\n",
        "#Definimos los valores de la gravedad, la masa y el radio de la Tierra\n",
        "G=6.66*(10**-11)\n",
        "M=5.97*(10**24)\n",
        "R=6371\n",
        "\n",
        "#Calculamos la altitud del satelite\n",
        "h1= (((G*M*(T1**2))/4*(pi**2))**1//3)-R\n",
        "h2= (((G*M*(T2**2))/4*(pi**2))**1//3)-R\n",
        "h3= (((G*M*(T3**2))/4*(pi**2))**1//3)-R\n",
        "\n",
        "\n",
        "#Finalmente imprimimos los resultados\n",
        "print(\"La altitud de satelite en la obita geoestacionaria es: \",h1,\"metros\")\n",
        "print(\"La altitud de satelite cada 90 minutos es: \",h2,\"metros\")\n",
        "print(\"La altitud de satelite cada 45 minutos es: \",h3,\"metros\")\n"
      ]
    },
    {
      "cell_type": "code",
      "execution_count": null,
      "metadata": {
        "id": "1EJoEDsd1Kua"
      },
      "outputs": [],
      "source": [
        "#Podemos concluir que mientras mayor sea el tiempo del satelite orbitando la Tierra, tendrá mayor altitud el mismo"
      ]
    },
    {
      "cell_type": "markdown",
      "metadata": {
        "id": "kTLDqh901Kua"
      },
      "source": [
        "**3. Relatividad especial:** Una nave espacial viaja desde la Tierra en línea recta a una velocidad relativista $v$ a otro planeta a $x$ años luz de distancia.\n",
        "\n",
        " Escribe un programa que le pida al usuario el valor de $x$ y la velocidad $v$ como una fracción de la velocidad de la luz $c$, y que imprima el tiempo en años que tarda la nave espacial en llegar a su destino"
      ]
    },
    {
      "cell_type": "markdown",
      "metadata": {
        "id": "pfN8Xarp1Kua"
      },
      "source": [
        "a) en el marco de reposo de un observador en la Tierra y"
      ]
    },
    {
      "cell_type": "code",
      "execution_count": null,
      "metadata": {
        "id": "fLwQhEyx1Kua",
        "colab": {
          "base_uri": "https://localhost:8080/"
        },
        "outputId": "3da2a112-bd3c-4d4f-d1f1-875a89ae14a3"
      },
      "outputs": [
        {
          "output_type": "stream",
          "name": "stdout",
          "text": [
            "Ingresa la distancia de los años luz x: 6\n",
            "Ingresa el valor de v que este entre 0 y 1: .55\n",
            "El timpo que tarda la nave en llevar a su destino es:  7.184212081070996 años luz\n"
          ]
        }
      ],
      "source": [
        "from math import sqrt\n",
        "\n",
        "\n",
        "x=float(input(\"Ingresa la distancia de los años luz x: \"))\n",
        "v=float(input(\"Ingresa el valor de v que este entre 0 y 1: \"))\n",
        "\n",
        "if v > 1 or v < 0:\n",
        " print(\"Tu valor no esta en el rango de 0 y 1, intentalo de nuevo\")\n",
        "\n",
        "c=1\n",
        "\n",
        "t=((0+(x/c**2)/sqrt(1-((v**2)/c**2))))\n",
        "\n",
        "\n",
        "print(\"El timpo que tarda la nave en llevar a su destino es: \",t,\"años luz\")\n"
      ]
    },
    {
      "cell_type": "markdown",
      "metadata": {
        "id": "5wIScEpv1Kua"
      },
      "source": [
        "b) como lo percibiría un pasajero a bordo de la nave."
      ]
    },
    {
      "cell_type": "code",
      "execution_count": null,
      "metadata": {
        "id": "nXCj8Mk91Kua",
        "colab": {
          "base_uri": "https://localhost:8080/"
        },
        "outputId": "32abfca3-e0b9-4a04-962c-20b708f4de10"
      },
      "outputs": [
        {
          "output_type": "stream",
          "name": "stdout",
          "text": [
            "Ingresa el valor de x: 2.5\n",
            "Ingresa el valor de v que este entre 0 y 1: .87\n",
            "El timpo que tarda la nave en llevar a su destino es:  -5.07046196446773 años luz\n"
          ]
        }
      ],
      "source": [
        "from math import sqrt\n",
        "\n",
        "\n",
        "x=float(input(\"Ingresa el valor de x: \"))\n",
        "v=float(input(\"Ingresa el valor de v que este entre 0 y 1: \"))\n",
        "\n",
        "if v > 1 or v < 0:\n",
        " print(\"Tu valor no esta en el rango de 0 y 1, intentalo de nuevo\")\n",
        "\n",
        "c=1\n",
        "\n",
        "t=((0-(x/c**2)/sqrt(1-((v**2)/c**2))))\n",
        "\n",
        "\n",
        "print(\"El timpo que tarda la nave en llevar a su destino es: \",t,\"años luz\")\n"
      ]
    },
    {
      "cell_type": "markdown",
      "metadata": {
        "id": "vzcyTRVA1Kua"
      },
      "source": [
        "Usa tu programa para calcular las respuestas para un planeta a 10 años luz de distancia con $v = 0.99c$"
      ]
    },
    {
      "cell_type": "code",
      "execution_count": null,
      "metadata": {
        "id": "xqkn3KMH1Kub",
        "colab": {
          "base_uri": "https://localhost:8080/"
        },
        "outputId": "52d42611-1a6c-407d-8c62-603f693b6f2f"
      },
      "outputs": [
        {
          "output_type": "stream",
          "name": "stdout",
          "text": [
            "El tiempo que tarda la nave en llevar a su destino es:  70.88812050083354 años luz\n"
          ]
        }
      ],
      "source": [
        "from math import sqrt\n",
        "\n",
        "\n",
        "x=10\n",
        "v=0.99\n",
        "c=1\n",
        "\n",
        "t=((0+(x/c**2)/sqrt(1-(((v)**2)/c**2))))\n",
        "\n",
        "\n",
        "print(\"El tiempo que tarda la nave en llevar a su destino es: \",t,\"años luz\")\n"
      ]
    },
    {
      "cell_type": "markdown",
      "metadata": {
        "id": "VvpAGnYe1Kub"
      },
      "source": [
        "**4. Órbitas planetarias:** En el espacio, la órbita de un cuerpo alrededor de otro (como un planeta alrededor del Sol), no necesariamente es circular. En general, toma la forma de una elipse, con el cuerpo a veces más cerca y otras más lejos. Si tenemos la distancia $\\ell_1$ de máxima aproximación de un planeta al Sol (su *perihelio*), y su velocidad lineal $v_1$ en el perihelio, entonces cualquier otra propiedad de la órbita se puede calcular a partir de estas dos cantidades de la siguiente manera:"
      ]
    },
    {
      "cell_type": "markdown",
      "metadata": {
        "id": "2Qv68IKm1Kub"
      },
      "source": [
        "   \n",
        "**a)** La segunda ley de Kepler nos dice que la distancia $\\ell_2$ y la velocidad $v_2$ del planeta en su punto más distante, o *afelio*, satisfacen que $\\ell_2 v_2 = \\ell_1 v_1$.  Al mismo tiempo, la energía total, cinética más la gravitatoria, de un planeta con velocidad $v$ y distancia $r$ del Sol está dada por:\n",
        "\n",
        "<h3 align=\"center\">$E = \\frac{1}{2} m v^2 - G {mM\\over r}$,</h3>\n",
        "        \n",
        "donde $m$ es la masa del planeta, $M=1.9891\\times10^{30}\\,$kg es la masa del Sol y $G=6.6738\\times10^{-11}\\,\\mathrm{m^3\\,kg^{-1}\\,s^{-2}}$ es la constante gravitatoria de Newton. Dado que la energía debe conservarse, demuestre que $v_2$ es la raíz más pequeña de la ecuación cuadrática:\n",
        "\n",
        "<h3 align=\"center\">$v_2^2 - {2GM\\over v_1\\ell_1} v_2 - \\biggl[ v_1^2 - {2GM\\over\\ell_1} \\biggr] = 0$.</h3>\n",
        "\n",
        "Una vez que tenemos $v_2$ podemos calcular $\\ell_2$  usando la relación $\\ell_2 = \\ell_1 v_1/v_2$."
      ]
    },
    {
      "cell_type": "markdown",
      "metadata": {
        "id": "DsA0r2NR1Kub"
      },
      "source": [
        "**b)** Dados los valores de $v_1$, $\\ell_1$, y $\\ell_2$; otros parámetros de la órbita se obtienen mediante fórmulas simples que pueden derivarse de las leyes de Kepler y del hecho de que la órbita es una elipse:\n",
        "\n",
        "<h4 align=\"center\">Semieje mayor: $\\; \\; \\; a = \\frac{1}{2}(\\ell_1+\\ell_2)$,</h4>\n",
        "\n",
        "<h4 align=\"center\">Semieje menor: $\\; \\; \\; b = \\sqrt{\\ell_1\\ell_2}$,</h4>\n",
        "\n",
        "<h4 align=\"center\">Período orbital: $\\; \\; \\; T = {2\\pi ab\\over\\ell_1 v_1}$,</h4>\n",
        "\n",
        "<h4 align=\"center\">Excentricidad orbital: $\\; \\; \\; e = {\\ell_2-\\ell_1\\over\\ell_2+\\ell_1}$.</h4>\n",
        "\n",
        "Escribe un programa que le pida al usuario que ingrese la distancia al Sol y la velocidad en el perihelio; para que calcule e imprima las cantidades:\n",
        "\n",
        "$\\ell_2$, $v_2$, $T$ y $e$."
      ]
    },
    {
      "cell_type": "code",
      "execution_count": 5,
      "metadata": {
        "id": "Ggf17-uN1Kub",
        "colab": {
          "base_uri": "https://localhost:8080/"
        },
        "outputId": "b701ee9e-6aaf-402e-9e1c-1fb87be5a3f7"
      },
      "outputs": [
        {
          "output_type": "stream",
          "name": "stdout",
          "text": [
            "Ingresa la distancia que hay entre la Tierra al Sol en km: 147000000\n",
            "Ahora ingresa la velocidad de la Tierra en el perihelio en km/h: 110700\n",
            "Esta es la velocidad en el afelio:  11784132.362644639 en km/h\n",
            "Esta es la distancia al afelio:  1380916.2608852414 en km\n",
            "Este es el semieje mayor:  74190458.13044262 en km\n",
            "Este es el semieje menor:  14247620.515374856 en km\n",
            "Este es el periodo orbital:  408.1363768638567 en km/h\n",
            "Esta es la excentricidad orbital:  -0.9813868751361894\n"
          ]
        }
      ],
      "source": [
        "from math import sqrt, pi, e\n",
        "\n",
        "l1=float(input(\"Ingresa la distancia que hay entre la Tierra al Sol en km: \"))\n",
        "\n",
        "v1=float(input(\"Ahora ingresa la velocidad de la Tierra en el perihelio en km/h: \"))\n",
        "\n",
        "\n",
        "G=6.6738*(10**-11)\n",
        "M=1.9891*(10**30)\n",
        "\n",
        "\n",
        "x=((2*G*M)/(l1*v1))\n",
        "y=((4*((v1)**2))-(8*G*M)/l1)\n",
        "\n",
        "\n",
        "#Como queremos la raiz más pequeña entonces\n",
        "\n",
        "v2=((x/2)+sqrt((x**2)+(4*y)))/2\n",
        "\n",
        "print(\"Esta es la velocidad en el afelio: \",v2,\"en km/h\")\n",
        "\n",
        "l2=((l1*v1)/v2)\n",
        "\n",
        "print(\"Esta es la distancia al afelio: \",l2,\"en km\")\n",
        "\n",
        "a=((1/2)*(l1+l2))\n",
        "\n",
        "print(\"Este es el semieje mayor: \",a,\"en km\")\n",
        "\n",
        "b=(sqrt(l1*l2))\n",
        "\n",
        "print(\"Este es el semieje menor: \",b,\"en km\")\n",
        "\n",
        "T=((2*pi*a*b)/(l1*v1))\n",
        "\n",
        "print(\"Este es el periodo orbital: \",T,\"en km/h\")\n",
        "\n",
        "e=((l2-l1)/(l2+l1))\n",
        "\n",
        "print(\"Esta es la excentricidad orbital: \",e)\n",
        "\n"
      ]
    },
    {
      "cell_type": "markdown",
      "metadata": {
        "id": "nTo-n6ak1Kub"
      },
      "source": [
        "**c)** Prueba tu programa haciendo que calcule las propiedades de las órbitas de la Tierra (para las cuales $\\ell_1=1.4710\\times10^{11}\\,$m y $v_1=3.0287\\times10^4\\,\\mathrm{m\\,s^{-1}}$)  y del cometa Halley ($\\ell_1=8.7830\\times10^{10}\\,$m y $v_1=5.4529\\times10^4\\,\\mathrm{m\\,s^{-1}}$). Entre otras cosas, deberías encontrar que el período orbital de la Tierra es de un año y el del cometa Halley es de unos 76 años."
      ]
    },
    {
      "cell_type": "code",
      "execution_count": 10,
      "metadata": {
        "id": "sTrGqVdj1Kub",
        "colab": {
          "base_uri": "https://localhost:8080/"
        },
        "outputId": "89325722-e86b-405c-b161-dcaa92a96507"
      },
      "outputs": [
        {
          "output_type": "stream",
          "name": "stdout",
          "text": [
            "La distancia de la Tierra al perihelio es:  147100000000.0 metros y la velocidad en el perihelio es:  30287.0 m/s\n",
            "Esta es la velocidad en el afelio de v2:  29305.3991772613 en m/s\n",
            "Esta es la distancia al afelio l2:  152027197208.6598 en m\n",
            "Este es el semieje mayor:  149563598604.3299 en m\n",
            "Este es el semieje menor:  149543307136.74167 en m\n",
            "Este es el periodo orbital:  31543060.207886893 en s\n",
            "Esta es la excentricidad orbital:  0.016471913134741688\n"
          ]
        }
      ],
      "source": [
        "#Para la Tierra\n",
        "\n",
        "from math import sqrt, pi, e\n",
        "\n",
        "l1=1.4710*(10**11)\n",
        "v1=(3.0287*(10**4))\n",
        "\n",
        "print(\"La distancia de la Tierra al perihelio es: \",l1,\"metros\", \"y la velocidad en el perihelio es: \",v1,\"m/s\")\n",
        "\n",
        "v2=(((2*G*M)/(l1*v1))-v1)\n",
        "\n",
        "print(\"Esta es la velocidad en el afelio de v2: \",v2,\"en m/s\")\n",
        "\n",
        "l2=((l1*v1)/v2)\n",
        "\n",
        "print(\"Esta es la distancia al afelio l2: \",l2,\"en m\")\n",
        "\n",
        "a=((1/2)*(l1+l2))\n",
        "\n",
        "print(\"Este es el semieje mayor: \",a,\"en m\")\n",
        "\n",
        "b=(sqrt(l1*l2))\n",
        "\n",
        "print(\"Este es el semieje menor: \",b,\"en m\")\n",
        "\n",
        "T=((2*pi*a*b)/(l1*v1))\n",
        "\n",
        "print(\"Este es el periodo orbital: \",T,\"en s\")\n",
        "\n",
        "e=((l2-l1)/(l2+l1))\n",
        "\n",
        "print(\"Esta es la excentricidad orbital: \",e)\n"
      ]
    },
    {
      "cell_type": "code",
      "source": [
        "#Para el cometa Halley\n",
        "\n",
        "from math import sqrt, pi, e\n",
        "\n",
        "l1=8.7830*(10**10)\n",
        "v1=(5.4529*(10**4))\n",
        "\n",
        "print(\"La distancia de la Tierra al perihelio es: \",l1,\"metros\", \"y la velocidad en el perihelio es: \",v1,\"m/s\")\n",
        "\n",
        "v2=(((2*G*M)/(l1*v1))-v1)\n",
        "\n",
        "print(\"Esta es la velocidad en el afelio de v2: \",v2,\"en m/s\")\n",
        "\n",
        "l2=((l1*v1)/v2)\n",
        "\n",
        "print(\"Esta es la distancia al afelio l2: \",l2,\"en m\")\n",
        "\n",
        "a=((1/2)*(l1+l2))\n",
        "\n",
        "print(\"Este es el semieje mayor: \",a,\"en m\")\n",
        "\n",
        "b=(sqrt(l1*l2))\n",
        "\n",
        "print(\"Este es el semieje menor: \",b,\"en m\")\n",
        "\n",
        "T=((2*pi*a*b)/(l1*v1))\n",
        "\n",
        "print(\"Este es el periodo orbital: \",T,\"en s\")\n",
        "\n",
        "e=((l2-l1)/(l2+l1))\n",
        "\n",
        "print(\"Esta es la excentricidad orbital: \",e)"
      ],
      "metadata": {
        "colab": {
          "base_uri": "https://localhost:8080/"
        },
        "id": "Cd8ixyssODny",
        "outputId": "bebe9792-51f2-4188-df77-9a5ba0453d9a"
      },
      "execution_count": 9,
      "outputs": [
        {
          "output_type": "stream",
          "name": "stdout",
          "text": [
            "La distancia de la Tierra al perihelio es:  87830000000.0 metros y la velocidad en el perihelio es:  54529.0 m/s\n",
            "Esta es la velocidad en el afelio de v2:  906.6806969191457 en m/s\n",
            "Esta es la distancia al afelio l2:  5282214660876.463 en m\n",
            "Este es el semieje mayor:  2685022330438.2314 en m\n",
            "Este es el semieje menor:  681129146098.4325 en m\n",
            "Este es el periodo orbital:  2399312511.8452024 en s\n",
            "Esta es la excentricidad orbital:  0.9672889126454062\n"
          ]
        }
      ]
    },
    {
      "cell_type": "markdown",
      "metadata": {
        "id": "t5wxMuPs1Kuc"
      },
      "source": [
        "**5. La fórmula semiempírica de la masa (FSM)**\n",
        "\n",
        "En física nuclear, la **fórmula de Weizsäcker** (conocida también como fórmula semiempírica) sirve para evaluar la masa y otras propiedades de un núcleo atómico; y está basada parcialmente en mediciones empíricas. En particular la fórmula se usa para calcular la \\textbf{\\textit{energía de enlace nuclear aproximada}} $B$, de un núcleo atómico con número atómico $Z$ y número de masa $A$:\n",
        "\n",
        "<h3 align=\"center\">$B = a_1 A - a_2 A^{2/3} - a_3 {Z^2\\over A^{1/3}} - a_4 {(A - 2Z)^2\\over A} + {a_5\\over A^{1/2}}$,</h3>\n",
        "\n",
        "donde, en unidades de millones de electrón-volts, las constantes son $a_1=15.8$, $a_2=18.3$, $a_3=0.714$, $a_4=23.2$ y          \n",
        "<h6 align=\"center\">\n",
        "$a_5 =\n",
        "  \\left \\{\n",
        "    \\begin{aligned}\n",
        "      0 & \\; \\text{si} \\ A \\; \\text{es impar,} \\\\\n",
        "      12.0 & \\; \\text{si} \\ A \\; \\text{y} \\; Z \\; \\text{son pares (ambos),} \\\\\n",
        "      -12.0 & \\; \\text{si} \\ A \\; \\text{es par y} \\; Z \\; \\text{impar}\n",
        "    \\end{aligned}\n",
        "  \\right.\n",
        "$\n",
        "</h6>"
      ]
    },
    {
      "cell_type": "markdown",
      "metadata": {
        "id": "Sw52OYW41Kuc"
      },
      "source": [
        "**a)** Escribe un programa que tome como entrada los valores de $A$ y $Z$, e imprima la energía de enlace $B$ para el átomo correspondiente. Usa tu programa para encontrar la energía de enlace de un átomo con $A=58$ y $Z=28$ (Hint: La respuesta correcta es alrededor de los $490\\,$MeV)."
      ]
    },
    {
      "cell_type": "code",
      "execution_count": 13,
      "metadata": {
        "id": "XCQw84Uq1Kuc",
        "colab": {
          "base_uri": "https://localhost:8080/"
        },
        "outputId": "190bd97e-21de-41e9-bc75-f59cc1cf9479"
      },
      "outputs": [
        {
          "output_type": "stream",
          "name": "stdout",
          "text": [
            "Ingresa el número de masa A: 58\n",
            "Ingresa el número atómico Z: 28\n",
            "La energía de enlace nuclear aproximada es B=  497.5620206224374 MeV\n"
          ]
        }
      ],
      "source": [
        "\n",
        "A=float(input(\"Ingresa el número de masa A: \"))\n",
        "Z=float(input(\"Ingresa el número atómico Z: \"))\n",
        "\n",
        "\n",
        "a1=15.8\n",
        "a2=18.3\n",
        "a3=0.714\n",
        "a4=23.2\n",
        "\n",
        "if A%2==0 and Z%2==0:\n",
        "   a5=12\n",
        "elif A%2==0 and Z%2==1:\n",
        "  a5=-12\n",
        "elif A%2==1:\n",
        "  a5=0\n",
        "\n",
        "B=(a1*A)-(a2*(A**(2/3)))-(a3*((Z**2)/(A**(1/3))))-(a4*(((A-(2*Z))**2)/A))+(a5/(A**(1/2)))\n",
        "\n",
        "print(\"La energía de enlace nuclear aproximada es B= \",B,\"MeV\")\n"
      ]
    },
    {
      "cell_type": "markdown",
      "metadata": {
        "id": "6wCYxW2c1Kug"
      },
      "source": [
        "**b)** Modifica el programa del inciso anterior, para escribir una segunda versión que imprima no la energía de enlace total $B$, sino la energía de unión por nucleón, que es $B/A$."
      ]
    },
    {
      "cell_type": "code",
      "execution_count": 14,
      "metadata": {
        "id": "A3S35bKJ1Kug",
        "colab": {
          "base_uri": "https://localhost:8080/"
        },
        "outputId": "c9c17615-6e35-4aa3-a81a-4c7438dce932"
      },
      "outputs": [
        {
          "output_type": "stream",
          "name": "stdout",
          "text": [
            "Ingresa el número de masa A: 58\n",
            "Ingresa el número atómico Z: 28\n",
            "La energia de unión por nucleón es = 8.578655527973059 MeV\n"
          ]
        }
      ],
      "source": [
        "A=float(input(\"Ingresa el número de masa A: \"))\n",
        "Z=float(input(\"Ingresa el número atómico Z: \"))\n",
        "\n",
        "a1=15.8\n",
        "a2=18.3\n",
        "a3=0.714\n",
        "a4=23.2\n",
        "\n",
        "if A%2==0 and Z%2==0:\n",
        "   a5=12\n",
        "elif A%2==0 and Z%2==1:\n",
        "  a5=-12\n",
        "elif A%2==1:\n",
        "  a5=0\n",
        "\n",
        "B=(a1*A)-(a2*(A**(2/3)))-(a3*((Z**2)/(A**(1/3))))-(a4*(((A-(2*Z))**2)/A))+(a5/(A**(1/2)))\n",
        "\n",
        "E=B/A\n",
        "\n",
        "print(\"La energia de unión por nucleón es =\",E,\"MeV\")"
      ]
    },
    {
      "cell_type": "markdown",
      "metadata": {
        "id": "8GrfAi_y1Kug"
      },
      "source": [
        "**c)** Escribe una tercera versión del programa para que tome como entrada solo un valor del número atómico $Z$ y luego pase por todos los valores de $A$ desde $A=Z$ hasta $A=3Z$, para encontrar el que tiene la mayor energía de enlace por nucleón . Este es el núcleo más estable con el número atómico dado. Haz que tu programa imprima el valor de $A$ para este núcleo más estable y el valor de la energía de enlace por nucleón."
      ]
    },
    {
      "cell_type": "code",
      "execution_count": 19,
      "metadata": {
        "id": "mBsDJMJ-1Kug",
        "colab": {
          "base_uri": "https://localhost:8080/"
        },
        "outputId": "aa8af6d1-8754-46b7-dc94-8624c6da3274"
      },
      "outputs": [
        {
          "output_type": "stream",
          "name": "stdout",
          "text": [
            "Ingresa el número atómico Z: 28\n",
            "La enegía de unión por nucleón máxima es 7.537640039955393 MeV, con A= 84\n"
          ]
        }
      ],
      "source": [
        "from numpy import array\n",
        "\n",
        "\n",
        "Z=int(input(\"Ingresa el número atómico Z: \"))\n",
        "\n",
        "a1=15.8\n",
        "a2=18.3\n",
        "a3=0.714\n",
        "a4=23.2\n",
        "\n",
        "X=[]\n",
        "Y=[]\n",
        "\n",
        "for n in range(1,4):\n",
        " A=n*Z\n",
        " if A%2==0 and Z%2==0:\n",
        "   a5=12\n",
        " elif A%2==0 and Z%2==1:\n",
        "  a5=-12\n",
        " elif A%2==1:\n",
        "  a5=0\n",
        "\n",
        "B=(a1*A)-(a2*(A**(2/3)))-(a3*((Z**2)/(A**(1/3))))-(a4*(((A-(2*Z))**2)/A))+(a5/(A**(1/2)))\n",
        "E=B/A\n",
        "\n",
        "X.append(E)\n",
        "Y.append(A)\n",
        "\n",
        "h=max(X)\n",
        "l=X.index(h)\n",
        "k=Y[l]\n",
        "\n",
        "print(\"La enegía de unión por nucleón máxima es\",h,\"MeV, con A =\",k)\n"
      ]
    },
    {
      "cell_type": "markdown",
      "metadata": {
        "id": "wKcYJACm1Kug"
      },
      "source": [
        "**d)** Finalmente, escribe una cuarta versión del programa que, en lugar de tomar $Z$ como entrada, se ejecute a través de todos los valores de $Z$ de 1 a 100 e imprima el valor más estable de $A$ para cada uno. ¿A qué valor de $Z$ se produce la energía de enlace máxima por nucleón? (La respuesta correcta, en la vida real, es $Z=28$, que corresponde al Níquel)."
      ]
    }
  ],
  "metadata": {
    "kernelspec": {
      "display_name": "Bash",
      "language": "bash",
      "name": "bash"
    },
    "language_info": {
      "codemirror_mode": "shell",
      "file_extension": ".sh",
      "mimetype": "text/x-sh",
      "name": "bash"
    },
    "colab": {
      "provenance": [],
      "include_colab_link": true
    }
  },
  "nbformat": 4,
  "nbformat_minor": 0
}